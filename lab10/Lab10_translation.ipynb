{
 "cells": [
  {
   "cell_type": "markdown",
   "metadata": {
    "colab_type": "text",
    "id": "YhNTG5TiQ1zl"
   },
   "source": [
    "## Lab 10: Self-supervised Learning"
   ]
  },
  {
   "cell_type": "markdown",
   "metadata": {},
   "source": [
    "## What is Self-supervised Learning?\n",
    "\n",
    "Self-supervised learning is a technique that has machines label data for training. It is supervised learning (i.e., labels are available for training), but the train dataset does not required humans to label it."
   ]
  },
  {
   "cell_type": "markdown",
   "metadata": {},
   "source": [
    "## Why Self-supervised Learning?\n",
    "\n",
    "Good performance of supervised learning often require a huge amount of data and labels, which results in expensive and time-consuming human labeling tasks. There is also a lot of data to use but unsupervised learning is much less efficient compared to supervised learning. \n",
    "\n",
    "Self-supervised learning allows us to practice supervised learning while saving time and resources by having machines label data for us.\n"
   ]
  },
  {
   "cell_type": "markdown",
   "metadata": {},
   "source": [
    "## Successful Examples of Self-supervised Learning\n",
    "\n",
    "Self-supervised learning techniques have been successfully used in language modeling. For example, a language model was tasked to predict a masked word given the surrounding words or past sequence. BERT is a successful example."
   ]
  },
  {
   "cell_type": "markdown",
   "metadata": {},
   "source": [
    "# Cross-lingual embeddings\n",
    "\n",
    "In this lab we will explore multilingual word embeddings and build a very rudimentary translation system. By training a translation system, we can start having sentences labeled by machine for future self-supervised tasks."
   ]
  },
  {
   "cell_type": "markdown",
   "metadata": {
    "colab_type": "text",
    "id": "JVHVrUvAQvml"
   },
   "source": [
    "Adapted from: https://github.com/facebookresearch/MUSE/blob/master/demo.ipynb\n",
    "\n",
    "Credit to: Phu Mon Htut and Jason Phang."
   ]
  },
  {
   "cell_type": "markdown",
   "metadata": {
    "colab_type": "text",
    "id": "vJTOC_deXfkb"
   },
   "source": [
    "## Theory\n",
    "Cross-lingual embedding vectors can be trained in supervised or unsupervised way. We focuses on the supervised way in this lab.  \n",
    "\n",
    "**Supervised.**  \n",
    "\n",
    "First, the embeddings are trained for each language separately.   \n",
    "Then optimization problem of aligning the embeddings is solved using a seed lexicon (small number of aligned pairs of words) by minimizing square loss with cross-domain similarity local scaling (CSLS) criterion.  \n",
    "More details in [Joulin et al (2018)](https://arxiv.org/pdf/1804.07745.pdf)\n",
    "\n",
    "More details in [Conneau et al (2018)](https://arxiv.org/pdf/1710.04087.pdf)"
   ]
  },
  {
   "cell_type": "markdown",
   "metadata": {
    "colab_type": "text",
    "id": "w68QNhoOXowy"
   },
   "source": [
    "## Practice"
   ]
  },
  {
   "cell_type": "markdown",
   "metadata": {
    "colab_type": "text",
    "id": "psrhJi6wOE0W"
   },
   "source": [
    "### Load embeddings\n",
    "Here we load a subset of 100,000 + 100,000 aligned [fastText embeddings](https://fasttext.cc/docs/en/aligned-vectors.html) for English and Russian languages. "
   ]
  },
  {
   "cell_type": "code",
   "execution_count": 18,
   "metadata": {
    "colab": {},
    "colab_type": "code",
    "id": "I6oKVHW8ZxGS"
   },
   "outputs": [],
   "source": [
    "# !wget 'https://drive.google.com/uc?export=download&id=1-Hrc2uz14kmcsKYle7_penmpR7t0TtZR' -O en_embeddings.npz\n",
    "# !wget 'https://drive.google.com/uc?export=download&id=1-ZnGxODZypEnz5E0ssXLCEMG-fSfU28W' -O en_word2id.p\n",
    "\n",
    "# !wget 'https://drive.google.com/uc?export=download&id=1-OE9Tw8M5jWvM-4WRKfladaQzLIgoxiT' -O ru_embeddings.npz\n",
    "# !wget 'https://drive.google.com/uc?export=download&id=1-Y42yEnIsrQtVdQ7PABrvrn4eYRKmyuG' -O ru_word2id.p\n",
    "\n",
    "# !wget 'https://drive.google.com/uc?export=download&id=1-TsynEry2jdbIY2P3_c7UjHdbwr345Nf' -O secret_embeddings.npy"
   ]
  },
  {
   "cell_type": "code",
   "execution_count": 4,
   "metadata": {
    "colab": {},
    "colab_type": "code",
    "id": "OIG-PHMSOHif"
   },
   "outputs": [],
   "source": [
    "import numpy as np\n",
    "import pickle\n",
    "import pandas as pd"
   ]
  },
  {
   "cell_type": "code",
   "execution_count": 6,
   "metadata": {
    "colab": {},
    "colab_type": "code",
    "id": "PAD_ImoyE-Ce"
   },
   "outputs": [],
   "source": [
    "# load the files\n",
    "x = np.load('en_embeddings_35.npz', allow_pickle=True)\n",
    "en_embeddings = [x[k] for k in x][0]\n",
    "\n",
    "x = np.load('ru_embeddings_35.npz', allow_pickle=True)\n",
    "ru_embeddings = [x[k] for k in x][0]\n",
    "\n",
    "with open('en_word2id.p', 'rb') as handle:\n",
    "    en_word2id = pickle.load(handle)\n",
    "\n",
    "with open('ru_word2id.p', 'rb') as handle:\n",
    "    ru_word2id = pickle.load(handle)\n",
    "\n",
    "# create id2word for both languages\n",
    "en_id2word = [None] * len(en_word2id)\n",
    "for word, idx in en_word2id.items():\n",
    "    en_id2word[idx] = word\n",
    "ru_id2word = [None] * len(ru_word2id)\n",
    "for word, idx in ru_word2id.items():\n",
    "    ru_id2word[idx] = word"
   ]
  },
  {
   "cell_type": "markdown",
   "metadata": {
    "colab_type": "text",
    "id": "5RAP8Wr3nn_t"
   },
   "source": [
    "### Visualize multilingual embeddings"
   ]
  },
  {
   "cell_type": "markdown",
   "metadata": {
    "colab_type": "text",
    "id": "wE7KAMi0gme0"
   },
   "source": [
    "Let's visualize the embeddings. We take pairs of words that have same meaning, where one is English and the other is Russian. As they exist in 300-dimensional space which is hard to imagine, we need to project them to a 2D space. We will use the first two components of PCA to do this. "
   ]
  },
  {
   "cell_type": "code",
   "execution_count": 7,
   "metadata": {
    "colab": {},
    "colab_type": "code",
    "id": "TwNSpR0vnok2"
   },
   "outputs": [
    {
     "name": "stdout",
     "output_type": "stream",
     "text": [
      "Variance explained: 0.15\n"
     ]
    }
   ],
   "source": [
    "from sklearn.decomposition import PCA\n",
    "pca = PCA(n_components=2, whiten=True)\n",
    "pca.fit(np.vstack([en_embeddings, ru_embeddings]))\n",
    "print('Variance explained: %.2f' % pca.explained_variance_ratio_.sum())"
   ]
  },
  {
   "cell_type": "code",
   "execution_count": 8,
   "metadata": {
    "colab": {},
    "colab_type": "code",
    "id": "NWOAR-7an63m"
   },
   "outputs": [],
   "source": [
    "import matplotlib.pyplot as plt\n",
    "\n",
    "def plot_similar_word(src_words, src_word2id, src_emb, tgt_words, tgt_word2id, tgt_emb, pca):\n",
    "\n",
    "    Y = []\n",
    "    word_labels = []\n",
    "    for sw in src_words:\n",
    "        Y.append(src_emb[src_word2id[sw]])\n",
    "        word_labels.append(sw)\n",
    "    for tw in tgt_words:\n",
    "        Y.append(tgt_emb[tgt_word2id[tw]])\n",
    "        word_labels.append(tw)\n",
    "\n",
    "    # find PCA coords for 2 dimensions\n",
    "    Y = pca.transform(Y)\n",
    "    x_coords = Y[:, 0]\n",
    "    y_coords = Y[:, 1]\n",
    "\n",
    "    # display scatter plot\n",
    "    plt.figure(figsize=(10, 8), dpi=80)\n",
    "    plt.scatter(x_coords, y_coords, marker='x')\n",
    "\n",
    "    for k, (label, x, y) in enumerate(zip(word_labels, x_coords, y_coords)):\n",
    "        color = 'blue' if k < len(src_words) else 'red'  # src words in blue / tgt words in red\n",
    "        plt.annotate(label, xy=(x, y), xytext=(0, 0), textcoords='offset points', fontsize=19,\n",
    "                     color=color, weight='bold')\n",
    "        \n",
    "    for k in range(len(src_words)):\n",
    "        idx_src = k\n",
    "        idx_tgt = k + len(src_words)\n",
    "        plt.plot([x_coords[idx_src], x_coords[idx_tgt]], [y_coords[idx_src], y_coords[idx_tgt]])\n",
    "\n",
    "    plt.xlim(x_coords.min() - 0.2, x_coords.max() + 0.2)\n",
    "    plt.ylim(y_coords.min() - 0.2, y_coords.max() + 0.2)\n",
    "    plt.title('Visualization of the multilingual word embedding space')\n",
    "\n",
    "    plt.show()"
   ]
  },
  {
   "cell_type": "code",
   "execution_count": 9,
   "metadata": {
    "colab": {},
    "colab_type": "code",
    "id": "LA69RSian-uQ"
   },
   "outputs": [
    {
     "data": {
      "image/png": "[encoded data removed]",
      "text/plain": [
       "<Figure size 800x640 with 1 Axes>"
      ]
     },
     "metadata": {
      "needs_background": "light"
     },
     "output_type": "display_data"
    }
   ],
   "source": [
    "# get 5 random input words\n",
    "en_words = ['university', 'love', 'history', 'tennis', 'research', 'conference']\n",
    "ru_words = ['университет', 'любовь', 'история', 'теннис', 'исследование', 'конференция']\n",
    "\n",
    "# assert words in dictionaries\n",
    "for en_word in en_words:\n",
    "    assert en_word in en_word2id, '\"%s\" not in source dictionary' % en_word\n",
    "for ru_word in ru_words:\n",
    "    assert ru_word in ru_word2id, '\"%s\" not in target dictionary' % ru_word\n",
    "\n",
    "plot_similar_word(en_words, en_word2id, en_embeddings, ru_words, ru_word2id, ru_embeddings, pca)"
   ]
  },
  {
   "cell_type": "markdown",
   "metadata": {
    "colab_type": "text",
    "id": "sr9E8edNX_C4"
   },
   "source": [
    "### Get nearest neigbors for a given word"
   ]
  },
  {
   "cell_type": "markdown",
   "metadata": {
    "colab_type": "text",
    "id": "jCoy6RqxhmLF"
   },
   "source": [
    "Let's write a function that given a word, returns its K nearest neighbors in the vector space."
   ]
  },
  {
   "cell_type": "code",
   "execution_count": 10,
   "metadata": {
    "colab": {},
    "colab_type": "code",
    "id": "vvzNQe45QTU4"
   },
   "outputs": [],
   "source": [
    "def get_nn(word, src_emb, src_word2id, tgt_emb, tgt_id2word, K=5):\n",
    "    # 1. Look up the word embedding\n",
    "    word_emb = src_emb[src_word2id[word]]\n",
    "\n",
    "    # 2. Compute the scores for each word\n",
    "    scores = tgt_emb.dot(word_emb)\n",
    "\n",
    "    # 3. Find the index of the top K best scoring words\n",
    "    # 4. Get the corresponding top K words\n",
    "    k_best = pd.Series(scores, index=tgt_id2word).sort_values(ascending=False)[:K]\n",
    "\n",
    "    return k_best\n",
    "\n",
    "def print_k_best_for_word(k_best, word):\n",
    "    print(\"Nearest neighbors of \\\"%s\\\":\" % word)\n",
    "    for word, score in k_best.items():\n",
    "        print('%.4f - %s' % (score, word))\n",
    "\n",
    "    print()"
   ]
  },
  {
   "cell_type": "code",
   "execution_count": 11,
   "metadata": {
    "colab": {},
    "colab_type": "code",
    "id": "JThMzwplyRPB"
   },
   "outputs": [
    {
     "name": "stdout",
     "output_type": "stream",
     "text": [
      "Nearest neighbors of \"algorithm\":\n",
      "0.9999 - algorithm\n",
      "0.8939 - algorithms\n",
      "0.7575 - heuristic\n",
      "0.7427 - recursive\n",
      "0.7425 - computation\n",
      "0.7377 - polynomial\n",
      "\n",
      "Nearest neighbors of \"language\":\n",
      "0.9999 - language\n",
      "0.8152 - languages\n",
      "0.6772 - linguistic\n",
      "0.6699 - spoken\n",
      "0.6548 - bilingual\n",
      "0.6486 - multilingual\n",
      "\n",
      "Nearest neighbors of \"research\":\n",
      "1.0000 - research\n",
      "0.7609 - researches\n",
      "0.7181 - researcher\n",
      "0.7034 - researchers\n",
      "0.6741 - biomedical\n",
      "0.6498 - laboratory\n",
      "\n"
     ]
    }
   ],
   "source": [
    "en_words = [\"algorithm\", \"language\", \"research\"]\n",
    "for word in en_words:\n",
    "    k_best = get_nn(word, en_embeddings, en_word2id, en_embeddings, en_id2word, K=6)\n",
    "    print_k_best_for_word(k_best, word)"
   ]
  },
  {
   "cell_type": "code",
   "execution_count": 12,
   "metadata": {
    "colab": {},
    "colab_type": "code",
    "id": "l783sUP-gxIJ"
   },
   "outputs": [
    {
     "name": "stdout",
     "output_type": "stream",
     "text": [
      "Nearest neighbors of \"hello\":\n",
      "1.0000 - hello\n",
      "0.6525 - teahouse\n",
      "0.6231 - hey\n",
      "\n",
      "Nearest neighbors of \"world\":\n",
      "1.0000 - world\n",
      "0.6058 - worlds\n",
      "0.5053 - war\n",
      "\n"
     ]
    }
   ],
   "source": [
    "en_words = [\"hello\", \"world\"]\n",
    "for word in en_words:\n",
    "    k_best = get_nn(word, en_embeddings, en_word2id, en_embeddings, en_id2word, K=3)\n",
    "    print_k_best_for_word(k_best, word)"
   ]
  },
  {
   "cell_type": "markdown",
   "metadata": {
    "colab_type": "text",
    "id": "t8F58UYwglci"
   },
   "source": [
    "We can also search in Russian and find the closest words in English!"
   ]
  },
  {
   "cell_type": "code",
   "execution_count": 13,
   "metadata": {
    "colab": {},
    "colab_type": "code",
    "id": "Y9G_AZmOVmma"
   },
   "outputs": [
    {
     "name": "stdout",
     "output_type": "stream",
     "text": [
      "Nearest neighbors of \"привет\":\n",
      "0.3853 - greetings\n",
      "0.3677 - hello\n",
      "0.3537 - dear\n",
      "\n",
      "Nearest neighbors of \"мир\":\n",
      "0.3341 - peace\n",
      "0.3282 - world\n",
      "0.2986 - worlds\n",
      "\n"
     ]
    }
   ],
   "source": [
    "ru_words = [\"привет\", \"мир\"]\n",
    "for word in ru_words:\n",
    "    k_best = get_nn(word, ru_embeddings, ru_word2id, en_embeddings, en_id2word, K=3)\n",
    "    print_k_best_for_word(k_best, word)"
   ]
  },
  {
   "cell_type": "code",
   "execution_count": 14,
   "metadata": {
    "colab": {},
    "colab_type": "code",
    "id": "6aJv0gIpbkRr"
   },
   "outputs": [
    {
     "name": "stdout",
     "output_type": "stream",
     "text": [
      "Nearest neighbors of \"hello\":\n",
      "0.3677 - привет\n",
      "0.3192 - здравствуйте\n",
      "0.2781 - ох\n",
      "\n",
      "Nearest neighbors of \"world\":\n",
      "0.4323 - мира\n",
      "0.3403 - мира»\n",
      "0.3325 - мира —\n",
      "\n"
     ]
    }
   ],
   "source": [
    "en_words = [\"hello\", \"world\"]\n",
    "for word in en_words:\n",
    "    k_best = get_nn(word, en_embeddings, en_word2id, ru_embeddings, ru_id2word, K=3)\n",
    "    print_k_best_for_word(k_best, word)"
   ]
  },
  {
   "cell_type": "markdown",
   "metadata": {
    "colab_type": "text",
    "id": "PAG-_KufYOV4"
   },
   "source": [
    "### A simple word-to-word translation system"
   ]
  },
  {
   "cell_type": "markdown",
   "metadata": {
    "colab_type": "text",
    "id": "rDeYkM_dbKFr"
   },
   "source": [
    "We can try to use aligned embeddings to build a very rudimentary translation system.\n",
    "\n",
    "Here is a list of texts in Russian. We will parse it, convert to lowercase, remove all special symbols, and split to words.   \n",
    "Then for each word, if it exists in `ru_word2id`, translate it to english (using closest english word), otherwise skip it."
   ]
  },
  {
   "cell_type": "code",
   "execution_count": 15,
   "metadata": {
    "colab": {},
    "colab_type": "code",
    "id": "L0azS1XLqw5X"
   },
   "outputs": [],
   "source": [
    "ru_texts = [\n",
    "\"\"\"Игровое действие в американском футболе состоит из серии коротких по продолжительности отдельных схваток, за пределами которых мяч называют «мертвым» или не в игре. Во время схватки могут быть разыграны:\n",
    "пасовая комбинация,\n",
    "выносная комбинация,\n",
    "пант ( удар по мячу ),\n",
    "попытка взятия зачетной зоны\n",
    "свободный удар (ввод мяча в игру – начальный удар)\n",
    "Цель игры – набрать максимальное количество очков, занеся мяч в зачетную зону противника (тачдаун - touchdown) или забив его в ворота с поля (филд-гол – field goals). Побеждает команда, набравшая наибольшее количество очков.\"\"\",\n",
    "\"\"\"Я вас любил: любовь ещё, быть может,\n",
    "В душе моей угасла не совсем;\n",
    "Но пусть она вас больше не тревожит;\n",
    "Я не хочу печалить вас ничем.\n",
    "Я вас любил безмолвно, безнадежно,\n",
    "То робостью, то ревностью томим;\n",
    "Я вас любил так искренно, так нежно,\n",
    "Как дай вам Бог любимой быть другим\"\"\",\n",
    "\"\"\"Сегодня мы говорим про слова и стоит обсудить, как делать такое сопоставление вектора слову.\n",
    "Вернемся к предмету: вот у нас есть слова и есть компьютер, который должен с этими словами как-то работать. Вопрос — как компьютер будет работать со словами? Ведь компьютер не умеет читать, и вообще устроен сильно иначе, чем человек. Самая первая идея, приходящая в голову — просто закодировать слова цифрами по порядку следования в словаре.\"\"\",\n",
    "\"\"\"Интернет-мем — информация в той или иной форме (медиаобъект, то есть объект, создаваемый электронными средствами коммуникации, фраза, концепция или занятие), как правило, остроумная и ироническая[2], спонтанно приобретающая популярность, распространяясь в Интернете разнообразными способами (посредством социальных сетей, форумов, блогов, мессенджеров и пр.). Обозначает также явление спонтанного распространения такой информации или фразы. \n",
    "Мемами могут считаться как слова, так и изображения. Иначе говоря, это любые высказывания, картинки, видео или звукоряд, которые имеют значение и устойчиво распространяются во Всемирной паутине.\"\"\",\n",
    "]"
   ]
  },
  {
   "cell_type": "code",
   "execution_count": 16,
   "metadata": {
    "colab": {},
    "colab_type": "code",
    "id": "zQQNJK4WRMwi"
   },
   "outputs": [
    {
     "name": "stdout",
     "output_type": "stream",
     "text": [
      "игровое action in usa footballing consists from series short by duration individual схваток for outside which ball referred «мертвым» or but in игре. during during fights can be разыграны:\n",
      "пасовая combination\n",
      "выносная combination\n",
      "пант ( blow by мячу (\n",
      "attempt capture зачетной zones\n",
      "free blow (ввод goalkeeper in game – initial удар)\n",
      "aim games – gain maximum number points занеся ball in зачетную zone enemy (тачдаун - touchdown) or scored his in gate with fields (филд-гол – field goals). defeats team набравшая fewest number очков.\n",
      "\n",
      "===\n",
      "\n",
      "i you любил: love one be can\n",
      "in passion my угасла but совсем;\n",
      "but let she you than but тревожит;\n",
      "i but want печалить you ничем.\n",
      "i you loved безмолвно безнадежно\n",
      "so робостью so ревностью томим;\n",
      "i you loved that искренно that нежно\n",
      "as dang you god favorite be direct\n",
      "\n",
      "===\n",
      "\n",
      "today we talking like phrases and stands discuss as make that сопоставление vector слову.\n",
      "вернемся towards предмету: just there we there phrases and there computer which must with between faithfully как-то работать. question – as computer will working with словами? really computer but ability read and basically installed severely either than человек. biggest first idea приходящая in shoulder – simply закодировать phrases numeral by precedence departures in словаре.\n",
      "\n",
      "===\n",
      "\n",
      "интернет-мем – information in same or specific form (медиаобъект so there object создаваемый электронными effective communication phrase concept or занятие) as normally остроумная and ироническая[2] спонтанно приобретающая popularity распространяясь in internet diverse method (посредством social networks forum блогов мессенджеров and пр.). denote also phenomenon спонтанного dissemination simple information or фразы. \n",
      "мемами can considered as phrases that and изображения. either saying it any statements images video or звукоряд these are importance and устойчиво spreads during unesco паутине.\n",
      "\n",
      "===\n",
      "\n"
     ]
    }
   ],
   "source": [
    "import re\n",
    "\n",
    "for ru_text in ru_texts:\n",
    "    ru_text = re.sub(',(?!\\s+\\d$)', '', ru_text).lower()\n",
    "    translation = []\n",
    "\n",
    "    for word in re.split(r'(\\s+)', ru_text):\n",
    "        # Your code goes here\n",
    "        if word.isspace():\n",
    "            candidate = word\n",
    "        elif word in ru_word2id:\n",
    "            k_best = get_nn(word, ru_embeddings, ru_word2id, en_embeddings, en_id2word, K=1)\n",
    "            candidate = list(k_best.keys())[0]\n",
    "        else:\n",
    "            candidate = word\n",
    "        \n",
    "        translation.append(candidate)\n",
    "\n",
    "    print(\"\".join(translation))\n",
    "    print(\"\\n===\\n\")"
   ]
  }
 ],
 "metadata": {
  "colab": {
   "collapsed_sections": [],
   "name": "Lab_4_student_in_session.ipynb",
   "provenance": []
  },
  "kernelspec": {
   "display_name": "Python 3",
   "language": "python",
   "name": "python3"
  },
  "language_info": {
   "codemirror_mode": {
    "name": "ipython",
    "version": 3
   },
   "file_extension": ".py",
   "mimetype": "text/x-python",
   "name": "python",
   "nbconvert_exporter": "python",
   "pygments_lexer": "ipython3",
   "version": "3.7.6"
  }
 },
 "nbformat": 4,
 "nbformat_minor": 4
}
